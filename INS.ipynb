{
  "nbformat": 4,
  "nbformat_minor": 0,
  "metadata": {
    "colab": {
      "name": "INS.ipynb",
      "provenance": [],
      "authorship_tag": "ABX9TyPksIKZOYM3o6cbuLaDVVMO",
      "include_colab_link": true
    },
    "kernelspec": {
      "name": "python3",
      "display_name": "Python 3"
    }
  },
  "cells": [
    {
      "cell_type": "markdown",
      "metadata": {
        "id": "view-in-github",
        "colab_type": "text"
      },
      "source": [
        "<a href=\"https://colab.research.google.com/github/college-stuff-tycs/INS/blob/master/INS.ipynb\" target=\"_parent\"><img src=\"https://colab.research.google.com/assets/colab-badge.svg\" alt=\"Open In Colab\"/></a>"
      ]
    },
    {
      "cell_type": "markdown",
      "metadata": {
        "id": "gSAN1YygPGcG",
        "colab_type": "text"
      },
      "source": [
        "# INS Practicals by Self"
      ]
    },
    {
      "cell_type": "markdown",
      "metadata": {
        "id": "sNIkjabyO4GK",
        "colab_type": "text"
      },
      "source": [
        "---\n",
        "\n",
        "\n",
        "## Practical 1 : Implementing Substitution Ciphers\n"
      ]
    },
    {
      "cell_type": "code",
      "metadata": {
        "id": "s1W3uAQvFYM4",
        "colab_type": "code",
        "colab": {}
      },
      "source": [
        "key_dict = {\n",
        "'a': 'm',\n",
        "'b': 'n',\n",
        "'c': 'b',\n",
        "'d': 'v',\n",
        "'e': 'c',\n",
        "'f': 'x',\n",
        "'g': 'z',\n",
        "'h': 'a',\n",
        "'i': 's',\n",
        "'j': 'd',\n",
        "'k': 'f',\n",
        "'l': 'g',\n",
        "'m': 'h',\n",
        "'n': 'j',\n",
        "'o': 'k',\n",
        "'p': 'l',\n",
        "'q': 'p',\n",
        "'r': 'o',\n",
        "'s': 'i',\n",
        "'t': 'u',\n",
        "'u': 'y',\n",
        "'v': 't',\n",
        "'w': 'r',\n",
        "'x': 'e',\n",
        "'y': 'w',\n",
        "'z': 'q',\n",
        "' ': ' ',\n",
        "}"
      ],
      "execution_count": 35,
      "outputs": []
    },
    {
      "cell_type": "code",
      "metadata": {
        "id": "teITaGmMx0vj",
        "colab_type": "code",
        "colab": {}
      },
      "source": [
        "# Caesar Cipher\n",
        "\n",
        "def caesar_encrypt():\n",
        "    word = input('Enter the plain text: ')\n",
        "    c = ''\n",
        "    for i in word:\n",
        "        if (i == ' '):\n",
        "            c += ' '\n",
        "        else:\n",
        "            c += (chr(ord(i) + 3))\n",
        "    return c\n",
        "\n",
        "def caesar_decrypt():\n",
        "    word = input('Enter the cipher text: ')\n",
        "    c = ''\n",
        "    for i in word:\n",
        "        if (i == ' '):\n",
        "            c += ' '\n",
        "        else:\n",
        "            c += (chr(ord(i) - 3))\n",
        "    return c\n",
        "\n",
        "# Modified Caesar Cipher\n",
        "\n",
        "def modified_caesar_encrypt():\n",
        "    word = input(\"Enter the plain text: \")\n",
        "    k = int(input(\"Enter the key offset: \"))\n",
        "    c = ''\n",
        "    for i in word:\n",
        "        if (i == ' '):\n",
        "            c += ' '\n",
        "        else:\n",
        "            c += (chr(ord(i) + k))\n",
        "    return c\n",
        "\n",
        "def modified_caesar_decrypt():\n",
        "    word = input(\"Enter the cipher text: \")\n",
        "    k = int(input(\"Enter the key offset: \"))\n",
        "    c = ''\n",
        "    for i in word:\n",
        "        if (i == ' '):\n",
        "            c += ' '\n",
        "        else:\n",
        "            c += (chr(ord(i) - k))\n",
        "    return c\n",
        "\n",
        "# Mono-Aplhabetic Cipher\n",
        "\n",
        "def get_key(value):\n",
        "    for key, val in key_dict.items():\n",
        "        if (val == value):\n",
        "            return key\n",
        "\n",
        "def monoalphabetic_encrypt():\n",
        "    word = input(\"Enter the plain text: \")\n",
        "    c = ''\n",
        "    for i in word:\n",
        "        i = key_dict[i]\n",
        "        c += i\n",
        "    return c\n",
        "\n",
        "def monoalphabetic_decrypt():\n",
        "    word = input(\"Enter the cipher text: \")\n",
        "    c = ''\n",
        "    for i in word:\n",
        "        i = get_key(i)\n",
        "        c += i\n",
        "    return c\n",
        "\n",
        "\n",
        "# Utility fucntion calls the trigger cipher.\n",
        "# def utility(cipher):\n",
        "#     while True:\n",
        "#         print('\\n{0}Options: \\n 1. Ecrypt \\n 2. Decrypt \\n 0. Back to Options '.format(cipher))\n",
        "#         inp = int(input(\"Please enter valid input: \"))\n",
        "#         if (inp == 1):\n",
        "#             print(\"Encrypted Text: {0}\".format(caesar_encrypt()))\n",
        "#         elif (inp == 2):\n",
        "#             print(\"Plain Text: {0}\".format(caesar_decrypt()))\n",
        "#         if (inp == 0):\n",
        "#             break\n",
        "    \n",
        "\n",
        "\n",
        "    \n"
      ],
      "execution_count": 42,
      "outputs": []
    },
    {
      "cell_type": "code",
      "metadata": {
        "id": "Zh4JOAmOFNO-",
        "colab_type": "code",
        "colab": {
          "base_uri": "https://localhost:8080/",
          "height": 571
        },
        "outputId": "1c40447c-7ef7-40be-af09-fa14a2033891"
      },
      "source": [
        "while True:\n",
        "    print('\\n\\nOptions: \\n 1. Caesar Cipher \\n 2. Modified Caesar Cipher \\n 3. Mono-Alphabetic Cipher')\n",
        "    inp = int(input(\"Please enter valid input: \"))\n",
        "    if (inp == 1):\n",
        "        while True:\n",
        "            print('\\nCaesar Cipher Options: \\n 1. Ecrypt \\n 2. Decrypt \\n 0. Back to Options ')\n",
        "            inp = int(input(\"Please enter valid input: \"))\n",
        "            if (inp == 1):\n",
        "                print(\"Encrypted Text: {0}\".format(caesar_encrypt()))\n",
        "            elif (inp == 2):\n",
        "                print(\"Plain Text: {0}\".format(caesar_decrypt()))\n",
        "            if (inp == 0):\n",
        "                break\n",
        "    elif (inp == 2):\n",
        "        while True:\n",
        "            print('\\nModified Caesar Cipher Options: \\n 1. Ecrypt \\n 2. Decrypt \\n 0. Back to Options ')\n",
        "            inp = int(input(\"Please enter valid input: \"))\n",
        "            if (inp == 1):\n",
        "                print(\"Encrypted Text: {0}\".format(modified_caesar_encrypt()))\n",
        "            elif (inp == 2):\n",
        "                print(\"Plain Text: {0}\".format(modified_caesar_decrypt()))\n",
        "            if (inp == 0):\n",
        "                break\n",
        "    elif (inp == 3):\n",
        "        while True:\n",
        "            print('\\nMono-Alphabetic Cipher Options: \\n 1. Ecrypt \\n 2. Decrypt \\n 0. Back to Options ')\n",
        "            inp = int(input(\"Please enter valid input: \"))\n",
        "            if (inp == 1):\n",
        "                print(\"Encrypted Text: {0}\".format(monoalphabetic_encrypt()))\n",
        "            elif (inp == 2):\n",
        "                print(\"Plain Text: {0}\".format(monoalphabetic_decrypt()))\n",
        "            if (inp == 0):\n",
        "                break\n",
        "        \n",
        "\n",
        "    inp = int(input(\"\\nDo you want to continue? (1: Yes; 0:No) \"))\n",
        "    if (inp == 0):\n",
        "        break\n",
        "\n",
        "print(\"\\nThank You 🙌\")\n"
      ],
      "execution_count": 46,
      "outputs": [
        {
          "output_type": "stream",
          "text": [
            "\n",
            "\n",
            "Options: \n",
            " 1. Caesar Cipher \n",
            " 2. Modified Caesar Cipher \n",
            " 3. Mono-Alphabetic Cipher\n",
            "Please enter valid input: 3\n",
            "\n",
            "Mono-Alphabetic Cipher Options: \n",
            " 1. Ecrypt \n",
            " 2. Decrypt \n",
            " 0. Exit \n",
            "Please enter valid input: 1\n",
            "Enter the plain text: jaisal\n",
            "Encrypted Text: dmsimg\n",
            "\n",
            "Mono-Alphabetic Cipher Options: \n",
            " 1. Ecrypt \n",
            " 2. Decrypt \n",
            " 0. Exit \n",
            "Please enter valid input: 2\n",
            "Enter the plain text: dmsimg\n",
            "Plain Text: jaisal\n",
            "\n",
            "Mono-Alphabetic Cipher Options: \n",
            " 1. Ecrypt \n",
            " 2. Decrypt \n",
            " 0. Exit \n",
            "Please enter valid input: 0\n",
            "\n",
            "Do you want to continue? (1: Yes; 0:No) 0\n",
            "\n",
            "Thank You 🙌\n"
          ],
          "name": "stdout"
        }
      ]
    },
    {
      "cell_type": "markdown",
      "metadata": {
        "id": "dx4xZ2xOPsOx",
        "colab_type": "text"
      },
      "source": [
        "\n",
        "\n",
        "---\n",
        "## Practical 2: Implementing Transposition Ciphers\n"
      ]
    },
    {
      "cell_type": "code",
      "metadata": {
        "id": "hmX482NdPQmG",
        "colab_type": "code",
        "colab": {
          "base_uri": "https://localhost:8080/",
          "height": 52
        },
        "outputId": "90ea4fc4-a3b6-4d5c-a479-21a59532f973"
      },
      "source": [
        "def rail_fence():\n",
        "    word = list(input(\"Enter the plain text: \"))\n",
        "    even = [word[i] for i in range(0, len(word), 2)]\n",
        "    odd =  [word[i] for i in range(1, len(word), 2)]\n",
        "    return ''.join(even) + ''.join(odd)\n",
        "\n",
        "\n",
        "rail_fence()"
      ],
      "execution_count": 66,
      "outputs": [
        {
          "output_type": "stream",
          "text": [
            "Enter the plain text: jadiadn\n"
          ],
          "name": "stdout"
        },
        {
          "output_type": "execute_result",
          "data": {
            "application/vnd.google.colaboratory.intrinsic+json": {
              "type": "string"
            },
            "text/plain": [
              "'jdanaid'"
            ]
          },
          "metadata": {
            "tags": []
          },
          "execution_count": 66
        }
      ]
    }
  ]
}